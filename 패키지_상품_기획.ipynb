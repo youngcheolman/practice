{
  "nbformat": 4,
  "nbformat_minor": 0,
  "metadata": {
    "colab": {
      "provenance": [],
      "authorship_tag": "ABX9TyMFtHxe4B3dRLLqVWwmYTz3",
      "include_colab_link": true
    },
    "kernelspec": {
      "name": "python3",
      "display_name": "Python 3"
    },
    "language_info": {
      "name": "python"
    }
  },
  "cells": [
    {
      "cell_type": "markdown",
      "metadata": {
        "id": "view-in-github",
        "colab_type": "text"
      },
      "source": [
        "<a href=\"https://colab.research.google.com/github/youngcheolman/practice/blob/main/%ED%8C%A8%ED%82%A4%EC%A7%80_%EC%83%81%ED%92%88_%EA%B8%B0%ED%9A%8D.ipynb\" target=\"_parent\"><img src=\"https://colab.research.google.com/assets/colab-badge.svg\" alt=\"Open In Colab\"/></a>"
      ]
    },
    {
      "cell_type": "markdown",
      "source": [
        "왜 앱개발 종합반 신청자가 게임종합반에 관심이 많은 것인지 확인해보기\n",
        "\n",
        "\n",
        "가설\n",
        "앱 종합반과 게임 종합반 신청자의 공통 관심사는 중 가장 큰 비율을 차지하는 것은 부수입 창출일 것이다."
      ],
      "metadata": {
        "id": "GT7fEY_qbhfv"
      }
    },
    {
      "cell_type": "code",
      "execution_count": 1,
      "metadata": {
        "id": "TJQ4VZ6Ybgoq"
      },
      "outputs": [],
      "source": [
        "import pandas as pd\n",
        "import numpy as np\n",
        "import matplotlib.pyplot as plt\n",
        "plt.rc('font', family='NanumBarunGothic')"
      ]
    },
    {
      "cell_type": "code",
      "source": [
        "df_app = pd.read_csv('user_db_app.csv')\n",
        "df_game = pd.read_csv('user_db_game.csv')\n",
        "\n",
        "print(df_app.head())\n",
        "print(df_game.head())"
      ],
      "metadata": {
        "colab": {
          "base_uri": "https://localhost:8080/"
        },
        "id": "mgMle0e_cIw9",
        "outputId": "9413fc32-eb8d-47ec-cdb1-a4312cba5c01"
      },
      "execution_count": 2,
      "outputs": [
        {
          "output_type": "stream",
          "name": "stdout",
          "text": [
            "            user_id gender area  age access_media     goal\n",
            "0  1a8adcf53f881ee8      남  송파구   20        인스타그램  아이디어 실현\n",
            "1  bfd8847e1257757f      남  강서구   30           검색   부수입 창출\n",
            "2  f4445dcb39d1bc54      남  도봉구   20        인스타그램   부수입 창출\n",
            "3  75ac4eb719d64179      여  용산구   20        인스타그램     업무효율\n",
            "4  f258561fb134f6fd      여  은평구   30          네이버     문제해결\n",
            "            user_id gender area access_media     goal\n",
            "0  9ba84e9cf8733ce6      남  강남구         페이스북  아이디어 실현\n",
            "1  224bf36b191449c1      여   중구      오프라인 광고     문제해결\n",
            "2  baf7aaf4e287ed86      여  광진구          네이버   부수입 창출\n",
            "3  629ace9ab8ede18d      남  강서구         지인추천     의사결정\n",
            "4  89ea14ec83acd6c2      남  관악구        인스타그램  아이디어 실현\n"
          ]
        }
      ]
    },
    {
      "cell_type": "code",
      "source": [
        "# 각 데이터별 goal 수 구하기\n",
        "\n",
        "app_users_goal = df_app.groupby('goal')['user_id'].count()\n",
        "app_users_goal"
      ],
      "metadata": {
        "colab": {
          "base_uri": "https://localhost:8080/",
          "height": 303
        },
        "id": "Zr6lhFlNcaAM",
        "outputId": "097c549a-8a01-4f3a-8fe6-2cd621211e30"
      },
      "execution_count": 3,
      "outputs": [
        {
          "output_type": "execute_result",
          "data": {
            "text/plain": [
              "goal\n",
              "리서치 능력      46\n",
              "문제해결        95\n",
              "부수입 창출     400\n",
              "아이디어 실현    140\n",
              "업무효율       104\n",
              "의사결정       215\n",
              "Name: user_id, dtype: int64"
            ],
            "text/html": [
              "<div>\n",
              "<style scoped>\n",
              "    .dataframe tbody tr th:only-of-type {\n",
              "        vertical-align: middle;\n",
              "    }\n",
              "\n",
              "    .dataframe tbody tr th {\n",
              "        vertical-align: top;\n",
              "    }\n",
              "\n",
              "    .dataframe thead th {\n",
              "        text-align: right;\n",
              "    }\n",
              "</style>\n",
              "<table border=\"1\" class=\"dataframe\">\n",
              "  <thead>\n",
              "    <tr style=\"text-align: right;\">\n",
              "      <th></th>\n",
              "      <th>user_id</th>\n",
              "    </tr>\n",
              "    <tr>\n",
              "      <th>goal</th>\n",
              "      <th></th>\n",
              "    </tr>\n",
              "  </thead>\n",
              "  <tbody>\n",
              "    <tr>\n",
              "      <th>리서치 능력</th>\n",
              "      <td>46</td>\n",
              "    </tr>\n",
              "    <tr>\n",
              "      <th>문제해결</th>\n",
              "      <td>95</td>\n",
              "    </tr>\n",
              "    <tr>\n",
              "      <th>부수입 창출</th>\n",
              "      <td>400</td>\n",
              "    </tr>\n",
              "    <tr>\n",
              "      <th>아이디어 실현</th>\n",
              "      <td>140</td>\n",
              "    </tr>\n",
              "    <tr>\n",
              "      <th>업무효율</th>\n",
              "      <td>104</td>\n",
              "    </tr>\n",
              "    <tr>\n",
              "      <th>의사결정</th>\n",
              "      <td>215</td>\n",
              "    </tr>\n",
              "  </tbody>\n",
              "</table>\n",
              "</div><br><label><b>dtype:</b> int64</label>"
            ]
          },
          "metadata": {},
          "execution_count": 3
        }
      ]
    },
    {
      "cell_type": "code",
      "source": [
        "game_users_goal = df_game.groupby('goal')['user_id'].count()\n",
        "game_users_goal"
      ],
      "metadata": {
        "colab": {
          "base_uri": "https://localhost:8080/",
          "height": 303
        },
        "id": "uZQPkAJqdVwE",
        "outputId": "ad313ac5-3184-4f5d-ebb8-13e7eeacdc2e"
      },
      "execution_count": 4,
      "outputs": [
        {
          "output_type": "execute_result",
          "data": {
            "text/plain": [
              "goal\n",
              "리서치 능력      50\n",
              "문제해결        70\n",
              "부수입 창출     440\n",
              "아이디어 실현    140\n",
              "업무효율        85\n",
              "의사결정       215\n",
              "Name: user_id, dtype: int64"
            ],
            "text/html": [
              "<div>\n",
              "<style scoped>\n",
              "    .dataframe tbody tr th:only-of-type {\n",
              "        vertical-align: middle;\n",
              "    }\n",
              "\n",
              "    .dataframe tbody tr th {\n",
              "        vertical-align: top;\n",
              "    }\n",
              "\n",
              "    .dataframe thead th {\n",
              "        text-align: right;\n",
              "    }\n",
              "</style>\n",
              "<table border=\"1\" class=\"dataframe\">\n",
              "  <thead>\n",
              "    <tr style=\"text-align: right;\">\n",
              "      <th></th>\n",
              "      <th>user_id</th>\n",
              "    </tr>\n",
              "    <tr>\n",
              "      <th>goal</th>\n",
              "      <th></th>\n",
              "    </tr>\n",
              "  </thead>\n",
              "  <tbody>\n",
              "    <tr>\n",
              "      <th>리서치 능력</th>\n",
              "      <td>50</td>\n",
              "    </tr>\n",
              "    <tr>\n",
              "      <th>문제해결</th>\n",
              "      <td>70</td>\n",
              "    </tr>\n",
              "    <tr>\n",
              "      <th>부수입 창출</th>\n",
              "      <td>440</td>\n",
              "    </tr>\n",
              "    <tr>\n",
              "      <th>아이디어 실현</th>\n",
              "      <td>140</td>\n",
              "    </tr>\n",
              "    <tr>\n",
              "      <th>업무효율</th>\n",
              "      <td>85</td>\n",
              "    </tr>\n",
              "    <tr>\n",
              "      <th>의사결정</th>\n",
              "      <td>215</td>\n",
              "    </tr>\n",
              "  </tbody>\n",
              "</table>\n",
              "</div><br><label><b>dtype:</b> int64</label>"
            ]
          },
          "metadata": {},
          "execution_count": 4
        }
      ]
    },
    {
      "cell_type": "code",
      "source": [
        "#그래프 크기 설정 (인치)\n",
        "plt.figure(figsize=(8,6))\n",
        "\n",
        "#x축 y축 설정을 동일하게 해주고, color와, label을 추가 해주시면 됩니다. 참 쉽죠?\n",
        "\n",
        "#app 종합반 수강생 관심 분야\n",
        "plt.plot(app_users_goal.index ,app_users_goal,color=\"red\", label=\"app\")\n",
        "#game 종합반 수강생 관심 분야\n",
        "plt.plot(game_users_goal.index ,game_users_goal,color=\"blue\", label=\"game\")\n",
        "\n",
        "\n",
        "#각 그래프의 범례는 .legend()을 이용하여 만들어 줍니다! :)\n",
        "plt.legend()\n",
        "\n",
        "#그래프 타이틀\n",
        "plt.title(\"앱 종합반, 게임 종합반 수강생의 관심사\")\n",
        "#x축 레이블\n",
        "plt.xlabel('수강 목적')\n",
        "#y축 레이블\n",
        "plt.ylabel('수강생 수')\n",
        "\n",
        "#그래프 보여주기\n",
        "plt.show()"
      ],
      "metadata": {
        "colab": {
          "base_uri": "https://localhost:8080/",
          "height": 563
        },
        "id": "cnzwEFcCdmn_",
        "outputId": "9b23f690-f818-4016-ae7c-19b033282e19"
      },
      "execution_count": 5,
      "outputs": [
        {
          "output_type": "display_data",
          "data": {
            "text/plain": [
              "<Figure size 800x600 with 1 Axes>"
            ],
            "image/png": "[encoded data removed]"
          },
          "metadata": {}
        }
      ]
    },
    {
      "cell_type": "markdown",
      "source": [
        "분석 보고서\n",
        "\n",
        "판매 증대를 위해, 앱 종합반과 게임 종합반을 묶어서 부수입 강의세트를 출시하고\n",
        "\n",
        "“부수입 창출”을 메인 키워드로 내세워 홍보 효과를 증대 시킬수 있을 것 같다"
      ],
      "metadata": {
        "id": "uj_mMu_RfJ1U"
      }
    },
    {
      "cell_type": "code",
      "source": [
        "!sudo apt-get install -y fonts-nanum\n",
        "!sudo fc-cache -fv\n",
        "!rm ~/.cache/matplotlib -rf"
      ],
      "metadata": {
        "colab": {
          "base_uri": "https://localhost:8080/"
        },
        "id": "YqzQ_TKTeSFc",
        "outputId": "0ed51f7b-c907-4947-b8e0-d43ec27e6aeb"
      },
      "execution_count": 16,
      "outputs": [
        {
          "output_type": "stream",
          "name": "stdout",
          "text": [
            "Reading package lists... Done\n",
            "Building dependency tree... Done\n",
            "Reading state information... Done\n",
            "The following NEW packages will be installed:\n",
            "  fonts-nanum\n",
            "0 upgraded, 1 newly installed, 0 to remove and 49 not upgraded.\n",
            "Need to get 10.3 MB of archives.\n",
            "After this operation, 34.1 MB of additional disk space will be used.\n",
            "Get:1 http://archive.ubuntu.com/ubuntu jammy/universe amd64 fonts-nanum all 20200506-1 [10.3 MB]\n",
            "Fetched 10.3 MB in 2s (4,481 kB/s)\n",
            "debconf: unable to initialize frontend: Dialog\n",
            "debconf: (No usable dialog-like program is installed, so the dialog based frontend cannot be used. at /usr/share/perl5/Debconf/FrontEnd/Dialog.pm line 78, <> line 1.)\n",
            "debconf: falling back to frontend: Readline\n",
            "debconf: unable to initialize frontend: Readline\n",
            "debconf: (This frontend requires a controlling tty.)\n",
            "debconf: falling back to frontend: Teletype\n",
            "dpkg-preconfigure: unable to re-open stdin: \n",
            "Selecting previously unselected package fonts-nanum.\n",
            "(Reading database ... 123623 files and directories currently installed.)\n",
            "Preparing to unpack .../fonts-nanum_20200506-1_all.deb ...\n",
            "Unpacking fonts-nanum (20200506-1) ...\n",
            "Setting up fonts-nanum (20200506-1) ...\n",
            "Processing triggers for fontconfig (2.13.1-4.2ubuntu5) ...\n",
            "/usr/share/fonts: caching, new cache contents: 0 fonts, 1 dirs\n",
            "/usr/share/fonts/truetype: caching, new cache contents: 0 fonts, 3 dirs\n",
            "/usr/share/fonts/truetype/humor-sans: caching, new cache contents: 1 fonts, 0 dirs\n",
            "/usr/share/fonts/truetype/liberation: caching, new cache contents: 16 fonts, 0 dirs\n",
            "/usr/share/fonts/truetype/nanum: caching, new cache contents: 12 fonts, 0 dirs\n",
            "/usr/local/share/fonts: caching, new cache contents: 0 fonts, 0 dirs\n",
            "/root/.local/share/fonts: skipping, no such directory\n",
            "/root/.fonts: skipping, no such directory\n",
            "/usr/share/fonts/truetype: skipping, looped directory detected\n",
            "/usr/share/fonts/truetype/humor-sans: skipping, looped directory detected\n",
            "/usr/share/fonts/truetype/liberation: skipping, looped directory detected\n",
            "/usr/share/fonts/truetype/nanum: skipping, looped directory detected\n",
            "/var/cache/fontconfig: cleaning cache directory\n",
            "/root/.cache/fontconfig: not cleaning non-existent cache directory\n",
            "/root/.fontconfig: not cleaning non-existent cache directory\n",
            "fc-cache: succeeded\n"
          ]
        }
      ]
    }
  ]
}